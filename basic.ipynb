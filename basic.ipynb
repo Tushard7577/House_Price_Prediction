{
 "cells": [
  {
   "cell_type": "code",
   "execution_count": 7,
   "id": "ed62af9e",
   "metadata": {},
   "outputs": [],
   "source": [
    "import pandas as pd"
   ]
  },
  {
   "cell_type": "code",
   "execution_count": 13,
   "id": "676299e2",
   "metadata": {},
   "outputs": [],
   "source": [
    "df_train = pd.read_csv('../../../datasets/regtrain.csv')\n",
    "df_test = pd.read_csv('../../../datasets/regtest.csv')"
   ]
  },
  {
   "cell_type": "code",
   "execution_count": 14,
   "id": "083910bd",
   "metadata": {},
   "outputs": [
    {
     "data": {
      "text/html": [
       "<div>\n",
       "<style scoped>\n",
       "    .dataframe tbody tr th:only-of-type {\n",
       "        vertical-align: middle;\n",
       "    }\n",
       "\n",
       "    .dataframe tbody tr th {\n",
       "        vertical-align: top;\n",
       "    }\n",
       "\n",
       "    .dataframe thead th {\n",
       "        text-align: right;\n",
       "    }\n",
       "</style>\n",
       "<table border=\"1\" class=\"dataframe\">\n",
       "  <thead>\n",
       "    <tr style=\"text-align: right;\">\n",
       "      <th></th>\n",
       "      <th>Id</th>\n",
       "      <th>MSSubClass</th>\n",
       "      <th>MSZoning</th>\n",
       "      <th>LotFrontage</th>\n",
       "      <th>LotArea</th>\n",
       "      <th>Street</th>\n",
       "      <th>Alley</th>\n",
       "      <th>LotShape</th>\n",
       "      <th>LandContour</th>\n",
       "      <th>Utilities</th>\n",
       "      <th>...</th>\n",
       "      <th>PoolArea</th>\n",
       "      <th>PoolQC</th>\n",
       "      <th>Fence</th>\n",
       "      <th>MiscFeature</th>\n",
       "      <th>MiscVal</th>\n",
       "      <th>MoSold</th>\n",
       "      <th>YrSold</th>\n",
       "      <th>SaleType</th>\n",
       "      <th>SaleCondition</th>\n",
       "      <th>SalePrice</th>\n",
       "    </tr>\n",
       "  </thead>\n",
       "  <tbody>\n",
       "    <tr>\n",
       "      <th>0</th>\n",
       "      <td>1</td>\n",
       "      <td>60</td>\n",
       "      <td>RL</td>\n",
       "      <td>65.0</td>\n",
       "      <td>8450</td>\n",
       "      <td>Pave</td>\n",
       "      <td>NaN</td>\n",
       "      <td>Reg</td>\n",
       "      <td>Lvl</td>\n",
       "      <td>AllPub</td>\n",
       "      <td>...</td>\n",
       "      <td>0</td>\n",
       "      <td>NaN</td>\n",
       "      <td>NaN</td>\n",
       "      <td>NaN</td>\n",
       "      <td>0</td>\n",
       "      <td>2</td>\n",
       "      <td>2008</td>\n",
       "      <td>WD</td>\n",
       "      <td>Normal</td>\n",
       "      <td>208500</td>\n",
       "    </tr>\n",
       "    <tr>\n",
       "      <th>1</th>\n",
       "      <td>2</td>\n",
       "      <td>20</td>\n",
       "      <td>RL</td>\n",
       "      <td>80.0</td>\n",
       "      <td>9600</td>\n",
       "      <td>Pave</td>\n",
       "      <td>NaN</td>\n",
       "      <td>Reg</td>\n",
       "      <td>Lvl</td>\n",
       "      <td>AllPub</td>\n",
       "      <td>...</td>\n",
       "      <td>0</td>\n",
       "      <td>NaN</td>\n",
       "      <td>NaN</td>\n",
       "      <td>NaN</td>\n",
       "      <td>0</td>\n",
       "      <td>5</td>\n",
       "      <td>2007</td>\n",
       "      <td>WD</td>\n",
       "      <td>Normal</td>\n",
       "      <td>181500</td>\n",
       "    </tr>\n",
       "    <tr>\n",
       "      <th>2</th>\n",
       "      <td>3</td>\n",
       "      <td>60</td>\n",
       "      <td>RL</td>\n",
       "      <td>68.0</td>\n",
       "      <td>11250</td>\n",
       "      <td>Pave</td>\n",
       "      <td>NaN</td>\n",
       "      <td>IR1</td>\n",
       "      <td>Lvl</td>\n",
       "      <td>AllPub</td>\n",
       "      <td>...</td>\n",
       "      <td>0</td>\n",
       "      <td>NaN</td>\n",
       "      <td>NaN</td>\n",
       "      <td>NaN</td>\n",
       "      <td>0</td>\n",
       "      <td>9</td>\n",
       "      <td>2008</td>\n",
       "      <td>WD</td>\n",
       "      <td>Normal</td>\n",
       "      <td>223500</td>\n",
       "    </tr>\n",
       "    <tr>\n",
       "      <th>3</th>\n",
       "      <td>4</td>\n",
       "      <td>70</td>\n",
       "      <td>RL</td>\n",
       "      <td>60.0</td>\n",
       "      <td>9550</td>\n",
       "      <td>Pave</td>\n",
       "      <td>NaN</td>\n",
       "      <td>IR1</td>\n",
       "      <td>Lvl</td>\n",
       "      <td>AllPub</td>\n",
       "      <td>...</td>\n",
       "      <td>0</td>\n",
       "      <td>NaN</td>\n",
       "      <td>NaN</td>\n",
       "      <td>NaN</td>\n",
       "      <td>0</td>\n",
       "      <td>2</td>\n",
       "      <td>2006</td>\n",
       "      <td>WD</td>\n",
       "      <td>Abnorml</td>\n",
       "      <td>140000</td>\n",
       "    </tr>\n",
       "    <tr>\n",
       "      <th>4</th>\n",
       "      <td>5</td>\n",
       "      <td>60</td>\n",
       "      <td>RL</td>\n",
       "      <td>84.0</td>\n",
       "      <td>14260</td>\n",
       "      <td>Pave</td>\n",
       "      <td>NaN</td>\n",
       "      <td>IR1</td>\n",
       "      <td>Lvl</td>\n",
       "      <td>AllPub</td>\n",
       "      <td>...</td>\n",
       "      <td>0</td>\n",
       "      <td>NaN</td>\n",
       "      <td>NaN</td>\n",
       "      <td>NaN</td>\n",
       "      <td>0</td>\n",
       "      <td>12</td>\n",
       "      <td>2008</td>\n",
       "      <td>WD</td>\n",
       "      <td>Normal</td>\n",
       "      <td>250000</td>\n",
       "    </tr>\n",
       "  </tbody>\n",
       "</table>\n",
       "<p>5 rows × 81 columns</p>\n",
       "</div>"
      ],
      "text/plain": [
       "   Id  MSSubClass MSZoning  LotFrontage  LotArea Street Alley LotShape  \\\n",
       "0   1          60       RL         65.0     8450   Pave   NaN      Reg   \n",
       "1   2          20       RL         80.0     9600   Pave   NaN      Reg   \n",
       "2   3          60       RL         68.0    11250   Pave   NaN      IR1   \n",
       "3   4          70       RL         60.0     9550   Pave   NaN      IR1   \n",
       "4   5          60       RL         84.0    14260   Pave   NaN      IR1   \n",
       "\n",
       "  LandContour Utilities  ... PoolArea PoolQC Fence MiscFeature MiscVal MoSold  \\\n",
       "0         Lvl    AllPub  ...        0    NaN   NaN         NaN       0      2   \n",
       "1         Lvl    AllPub  ...        0    NaN   NaN         NaN       0      5   \n",
       "2         Lvl    AllPub  ...        0    NaN   NaN         NaN       0      9   \n",
       "3         Lvl    AllPub  ...        0    NaN   NaN         NaN       0      2   \n",
       "4         Lvl    AllPub  ...        0    NaN   NaN         NaN       0     12   \n",
       "\n",
       "  YrSold  SaleType  SaleCondition  SalePrice  \n",
       "0   2008        WD         Normal     208500  \n",
       "1   2007        WD         Normal     181500  \n",
       "2   2008        WD         Normal     223500  \n",
       "3   2006        WD        Abnorml     140000  \n",
       "4   2008        WD         Normal     250000  \n",
       "\n",
       "[5 rows x 81 columns]"
      ]
     },
     "execution_count": 14,
     "metadata": {},
     "output_type": "execute_result"
    }
   ],
   "source": [
    "df_train.head()"
   ]
  },
  {
   "cell_type": "markdown",
   "id": "15e99510",
   "metadata": {},
   "source": [
    "# Missing Values"
   ]
  },
  {
   "cell_type": "code",
   "execution_count": 15,
   "id": "272b1826",
   "metadata": {},
   "outputs": [
    {
     "data": {
      "text/plain": [
       "{'Id': 0,\n",
       " 'MSSubClass': 0,\n",
       " 'MSZoning': 0,\n",
       " 'LotFrontage': 259,\n",
       " 'LotArea': 0,\n",
       " 'Street': 0,\n",
       " 'Alley': 1369,\n",
       " 'LotShape': 0,\n",
       " 'LandContour': 0,\n",
       " 'Utilities': 0,\n",
       " 'LotConfig': 0,\n",
       " 'LandSlope': 0,\n",
       " 'Neighborhood': 0,\n",
       " 'Condition1': 0,\n",
       " 'Condition2': 0,\n",
       " 'BldgType': 0,\n",
       " 'HouseStyle': 0,\n",
       " 'OverallQual': 0,\n",
       " 'OverallCond': 0,\n",
       " 'YearBuilt': 0,\n",
       " 'YearRemodAdd': 0,\n",
       " 'RoofStyle': 0,\n",
       " 'RoofMatl': 0,\n",
       " 'Exterior1st': 0,\n",
       " 'Exterior2nd': 0,\n",
       " 'MasVnrType': 8,\n",
       " 'MasVnrArea': 8,\n",
       " 'ExterQual': 0,\n",
       " 'ExterCond': 0,\n",
       " 'Foundation': 0,\n",
       " 'BsmtQual': 37,\n",
       " 'BsmtCond': 37,\n",
       " 'BsmtExposure': 38,\n",
       " 'BsmtFinType1': 37,\n",
       " 'BsmtFinSF1': 0,\n",
       " 'BsmtFinType2': 38,\n",
       " 'BsmtFinSF2': 0,\n",
       " 'BsmtUnfSF': 0,\n",
       " 'TotalBsmtSF': 0,\n",
       " 'Heating': 0,\n",
       " 'HeatingQC': 0,\n",
       " 'CentralAir': 0,\n",
       " 'Electrical': 1,\n",
       " '1stFlrSF': 0,\n",
       " '2ndFlrSF': 0,\n",
       " 'LowQualFinSF': 0,\n",
       " 'GrLivArea': 0,\n",
       " 'BsmtFullBath': 0,\n",
       " 'BsmtHalfBath': 0,\n",
       " 'FullBath': 0,\n",
       " 'HalfBath': 0,\n",
       " 'BedroomAbvGr': 0,\n",
       " 'KitchenAbvGr': 0,\n",
       " 'KitchenQual': 0,\n",
       " 'TotRmsAbvGrd': 0,\n",
       " 'Functional': 0,\n",
       " 'Fireplaces': 0,\n",
       " 'FireplaceQu': 690,\n",
       " 'GarageType': 81,\n",
       " 'GarageYrBlt': 81,\n",
       " 'GarageFinish': 81,\n",
       " 'GarageCars': 0,\n",
       " 'GarageArea': 0,\n",
       " 'GarageQual': 81,\n",
       " 'GarageCond': 81,\n",
       " 'PavedDrive': 0,\n",
       " 'WoodDeckSF': 0,\n",
       " 'OpenPorchSF': 0,\n",
       " 'EnclosedPorch': 0,\n",
       " '3SsnPorch': 0,\n",
       " 'ScreenPorch': 0,\n",
       " 'PoolArea': 0,\n",
       " 'PoolQC': 1453,\n",
       " 'Fence': 1179,\n",
       " 'MiscFeature': 1406,\n",
       " 'MiscVal': 0,\n",
       " 'MoSold': 0,\n",
       " 'YrSold': 0,\n",
       " 'SaleType': 0,\n",
       " 'SaleCondition': 0,\n",
       " 'SalePrice': 0}"
      ]
     },
     "execution_count": 15,
     "metadata": {},
     "output_type": "execute_result"
    }
   ],
   "source": [
    "df_train.isna().sum().to_dict()"
   ]
  },
  {
   "cell_type": "code",
   "execution_count": 135,
   "id": "a9e6f9ce",
   "metadata": {},
   "outputs": [],
   "source": [
    "df_train=df_train[df_train['SalePrice']<487000]"
   ]
  },
  {
   "cell_type": "code",
   "execution_count": 181,
   "id": "6bf65887",
   "metadata": {},
   "outputs": [],
   "source": [
    "df_train=df_train[df_train['SalePrice']<478000]"
   ]
  },
  {
   "cell_type": "code",
   "execution_count": 182,
   "id": "12aeb651",
   "metadata": {},
   "outputs": [],
   "source": [
    "columns_numeric = list(df_train.select_dtypes(exclude='object').columns)\n",
    "columns_numeric.remove('Id')\n",
    "columns_numeric.remove('SalePrice')\n",
    "columns_categorical = list(df_train.select_dtypes(include='object').columns)"
   ]
  },
  {
   "cell_type": "code",
   "execution_count": 183,
   "id": "823f7624",
   "metadata": {},
   "outputs": [],
   "source": [
    "from sklearn.impute import SimpleImputer\n",
    "imputer_numeric = SimpleImputer(strategy='median')\n",
    "imputer_cat = SimpleImputer(strategy='most_frequent')\n",
    "\n",
    "imputer_numeric.fit(df_train[columns_numeric]) # median of every column\n",
    "imputer_cat.fit(df_train[columns_categorical]) # mode of every column\n",
    "\n",
    "df_train[columns_numeric] = imputer_numeric.transform(df_train[columns_numeric]) # fills missing data\n",
    "df_train[columns_categorical] = imputer_cat.transform(df_train[columns_categorical]) # fill"
   ]
  },
  {
   "cell_type": "code",
   "execution_count": 184,
   "id": "59bd657e",
   "metadata": {},
   "outputs": [
    {
     "data": {
      "text/plain": [
       "0"
      ]
     },
     "execution_count": 184,
     "metadata": {},
     "output_type": "execute_result"
    }
   ],
   "source": [
    "df_train.isna().sum().sum()"
   ]
  },
  {
   "cell_type": "code",
   "execution_count": 185,
   "id": "5fe37887",
   "metadata": {},
   "outputs": [],
   "source": [
    "df_test[columns_numeric] = imputer_numeric.transform(df_test[columns_numeric]) # fills missing data\n",
    "df_test[columns_categorical] = imputer_cat.transform(df_test[columns_categorical]) # fill"
   ]
  },
  {
   "cell_type": "code",
   "execution_count": 186,
   "id": "742bb4a5",
   "metadata": {},
   "outputs": [
    {
     "data": {
      "text/plain": [
       "0"
      ]
     },
     "execution_count": 186,
     "metadata": {},
     "output_type": "execute_result"
    }
   ],
   "source": [
    "df_test.isna().sum().sum()"
   ]
  },
  {
   "cell_type": "markdown",
   "id": "3f067afd",
   "metadata": {},
   "source": [
    "# Feature Encoding - Categorical =>OneHotEncoding"
   ]
  },
  {
   "cell_type": "code",
   "execution_count": 187,
   "id": "f37367eb",
   "metadata": {},
   "outputs": [
    {
     "data": {
      "text/plain": [
       "OneHotEncoder(handle_unknown='ignore', sparse=False)"
      ]
     },
     "execution_count": 187,
     "metadata": {},
     "output_type": "execute_result"
    }
   ],
   "source": [
    "from sklearn.preprocessing import OneHotEncoder\n",
    "encoder = OneHotEncoder(handle_unknown='ignore',sparse=False)\n",
    "encoder.fit(df_train[columns_categorical]) # finds new column names(all categories)"
   ]
  },
  {
   "cell_type": "code",
   "execution_count": 188,
   "id": "9744e0ca",
   "metadata": {},
   "outputs": [
    {
     "name": "stderr",
     "output_type": "stream",
     "text": [
      "C:\\Users\\deshm\\anaconda\\lib\\site-packages\\sklearn\\utils\\deprecation.py:87: FutureWarning: Function get_feature_names is deprecated; get_feature_names is deprecated in 1.0 and will be removed in 1.2. Please use get_feature_names_out instead.\n",
      "  warnings.warn(msg, category=FutureWarning)\n"
     ]
    }
   ],
   "source": [
    "new_columns = list(encoder.get_feature_names())"
   ]
  },
  {
   "cell_type": "code",
   "execution_count": 189,
   "id": "bd243452",
   "metadata": {},
   "outputs": [
    {
     "data": {
      "text/plain": [
       "252"
      ]
     },
     "execution_count": 189,
     "metadata": {},
     "output_type": "execute_result"
    }
   ],
   "source": [
    "len(new_columns)"
   ]
  },
  {
   "cell_type": "code",
   "execution_count": 190,
   "id": "027391da",
   "metadata": {},
   "outputs": [],
   "source": [
    "df_train[new_columns] = encoder.transform(df_train[columns_categorical])\n",
    "df_test[new_columns] = encoder.transform(df_test[columns_categorical])"
   ]
  },
  {
   "cell_type": "code",
   "execution_count": 191,
   "id": "fc86b05b",
   "metadata": {},
   "outputs": [
    {
     "data": {
      "text/plain": [
       "(1450, 333)"
      ]
     },
     "execution_count": 191,
     "metadata": {},
     "output_type": "execute_result"
    }
   ],
   "source": [
    "df_train.shape"
   ]
  },
  {
   "cell_type": "markdown",
   "id": "641420d1",
   "metadata": {},
   "source": [
    "# Feature Scaling - Numeric"
   ]
  },
  {
   "cell_type": "code",
   "execution_count": 192,
   "id": "c712a298",
   "metadata": {},
   "outputs": [],
   "source": [
    "from sklearn.preprocessing import MinMaxScaler\n",
    "scaler = MinMaxScaler()\n",
    "scaler.fit(df_train[columns_numeric])\n",
    "df_train[columns_numeric] = scaler.transform(df_train[columns_numeric])\n",
    "df_test[columns_numeric] = scaler.transform(df_test[columns_numeric])"
   ]
  },
  {
   "cell_type": "code",
   "execution_count": 193,
   "id": "2b4a2f50",
   "metadata": {},
   "outputs": [],
   "source": [
    "columns_selected = columns_numeric + new_columns\n",
    "X_train = df_train[columns_selected]\n",
    "y_train = df_train['SalePrice']\n",
    "X_test = df_test[columns_selected]\n",
    "# y_test = "
   ]
  },
  {
   "cell_type": "code",
   "execution_count": 194,
   "id": "2f3d1af0",
   "metadata": {},
   "outputs": [
    {
     "data": {
      "text/plain": [
       "540"
      ]
     },
     "execution_count": 194,
     "metadata": {},
     "output_type": "execute_result"
    }
   ],
   "source": [
    "len(columns_selected)"
   ]
  },
  {
   "cell_type": "markdown",
   "id": "21e62e0a",
   "metadata": {},
   "source": [
    "# Feature Reduction - PCA"
   ]
  },
  {
   "cell_type": "code",
   "execution_count": 195,
   "id": "6cc54a0c",
   "metadata": {},
   "outputs": [
    {
     "data": {
      "text/plain": [
       "PCA(n_components=0.94)"
      ]
     },
     "execution_count": 195,
     "metadata": {},
     "output_type": "execute_result"
    }
   ],
   "source": [
    "from sklearn.decomposition import PCA\n",
    "pca = PCA(n_components=0.94)\n",
    "pca.fit(X_train)  # Finds out principal components (Eigen Vectors)"
   ]
  },
  {
   "cell_type": "code",
   "execution_count": 196,
   "id": "6a75bdb6",
   "metadata": {},
   "outputs": [
    {
     "data": {
      "text/plain": [
       "93"
      ]
     },
     "execution_count": 196,
     "metadata": {},
     "output_type": "execute_result"
    }
   ],
   "source": [
    "pca.n_components_"
   ]
  },
  {
   "cell_type": "code",
   "execution_count": 197,
   "id": "13600ff8",
   "metadata": {},
   "outputs": [],
   "source": [
    "X_train_red = pca.transform(X_train)\n",
    "X_test_red = pca.transform(X_test)"
   ]
  },
  {
   "cell_type": "code",
   "execution_count": 198,
   "id": "62d46116",
   "metadata": {},
   "outputs": [
    {
     "data": {
      "text/plain": [
       "(1450, 93)"
      ]
     },
     "execution_count": 198,
     "metadata": {},
     "output_type": "execute_result"
    }
   ],
   "source": [
    "X_train_red.shape"
   ]
  },
  {
   "cell_type": "markdown",
   "id": "eefdb749",
   "metadata": {},
   "source": [
    "# Model Building"
   ]
  },
  {
   "cell_type": "code",
   "execution_count": 199,
   "id": "68f6d368",
   "metadata": {},
   "outputs": [
    {
     "data": {
      "text/plain": [
       "-0.04776874788151875"
      ]
     },
     "execution_count": 199,
     "metadata": {},
     "output_type": "execute_result"
    }
   ],
   "source": [
    "from sklearn.svm import SVR\n",
    "model = SVR(kernel='rbf')\n",
    "model.fit(X_train_red,y_train)\n",
    "model.score(X_train_red,y_train)"
   ]
  },
  {
   "cell_type": "code",
   "execution_count": 200,
   "id": "b36f8cd0",
   "metadata": {},
   "outputs": [
    {
     "data": {
      "text/plain": [
       "0.9644716006500328"
      ]
     },
     "execution_count": 200,
     "metadata": {},
     "output_type": "execute_result"
    }
   ],
   "source": [
    "from sklearn.ensemble import RandomForestRegressor\n",
    "model = RandomForestRegressor()\n",
    "model.fit(X_train_red,y_train)\n",
    "model.score(X_train_red,y_train)"
   ]
  },
  {
   "cell_type": "code",
   "execution_count": 201,
   "id": "dfda0aa5",
   "metadata": {},
   "outputs": [],
   "source": [
    "yp = model.predict(X_test_red)"
   ]
  },
  {
   "cell_type": "code",
   "execution_count": 202,
   "id": "96e77116",
   "metadata": {},
   "outputs": [],
   "source": [
    "df_submit = pd.DataFrame({'Id':df_test['Id'],'SalePrice':yp})"
   ]
  },
  {
   "cell_type": "code",
   "execution_count": 203,
   "id": "591ee689",
   "metadata": {},
   "outputs": [],
   "source": [
    "df_submit.to_csv('sub7.csv',index=False)"
   ]
  }
 ],
 "metadata": {
  "kernelspec": {
   "display_name": "Python 3 (ipykernel)",
   "language": "python",
   "name": "python3"
  },
  "language_info": {
   "codemirror_mode": {
    "name": "ipython",
    "version": 3
   },
   "file_extension": ".py",
   "mimetype": "text/x-python",
   "name": "python",
   "nbconvert_exporter": "python",
   "pygments_lexer": "ipython3",
   "version": "3.11.5"
  }
 },
 "nbformat": 4,
 "nbformat_minor": 5
}
